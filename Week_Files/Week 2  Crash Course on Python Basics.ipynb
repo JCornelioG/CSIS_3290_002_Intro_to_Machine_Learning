{
 "cells": [
  {
   "cell_type": "markdown",
   "id": "88ed1c21",
   "metadata": {},
   "source": [
    "This Jupyter Notebook provides only a basic introduction to Python programming, covering a subset of the topics  in the Datacamp assignment courses."
   ]
  },
  {
   "cell_type": "markdown",
   "id": "29dee40f",
   "metadata": {},
   "source": [
    "# Python  and its philosophy\n",
    "\n",
    "In this course, we will use Python 3.x. Python 2.7 was kept alive until 2020 and is now retired."
   ]
  },
  {
   "cell_type": "code",
   "execution_count": 1,
   "id": "c24e5bdc",
   "metadata": {},
   "outputs": [
    {
     "name": "stdout",
     "output_type": "stream",
     "text": [
      "The Zen of Python, by Tim Peters\n",
      "\n",
      "Beautiful is better than ugly.\n",
      "Explicit is better than implicit.\n",
      "Simple is better than complex.\n",
      "Complex is better than complicated.\n",
      "Flat is better than nested.\n",
      "Sparse is better than dense.\n",
      "Readability counts.\n",
      "Special cases aren't special enough to break the rules.\n",
      "Although practicality beats purity.\n",
      "Errors should never pass silently.\n",
      "Unless explicitly silenced.\n",
      "In the face of ambiguity, refuse the temptation to guess.\n",
      "There should be one-- and preferably only one --obvious way to do it.\n",
      "Although that way may not be obvious at first unless you're Dutch.\n",
      "Now is better than never.\n",
      "Although never is often better than *right* now.\n",
      "If the implementation is hard to explain, it's a bad idea.\n",
      "If the implementation is easy to explain, it may be a good idea.\n",
      "Namespaces are one honking great idea -- let's do more of those!\n"
     ]
    }
   ],
   "source": [
    "# run it and see what happens\n",
    "import this"
   ]
  },
  {
   "cell_type": "code",
   "execution_count": 2,
   "id": "a5044df9",
   "metadata": {},
   "outputs": [],
   "source": [
    "# run it and see what happens\n",
    "import antigravity"
   ]
  },
  {
   "cell_type": "markdown",
   "id": "aad19cb8",
   "metadata": {},
   "source": [
    "## Python Basics"
   ]
  },
  {
   "cell_type": "code",
   "execution_count": 3,
   "id": "00d1f8c4",
   "metadata": {},
   "outputs": [
    {
     "data": {
      "text/plain": [
       "3"
      ]
     },
     "execution_count": 3,
     "metadata": {},
     "output_type": "execute_result"
    }
   ],
   "source": [
    "# python as a calculator\n",
    "\n",
    "1 + 2"
   ]
  },
  {
   "cell_type": "code",
   "execution_count": 4,
   "id": "2baefca3",
   "metadata": {},
   "outputs": [
    {
     "data": {
      "text/plain": [
       "1"
      ]
     },
     "execution_count": 4,
     "metadata": {},
     "output_type": "execute_result"
    }
   ],
   "source": [
    "# python as a calculator\n",
    "\n",
    "5 % 2 "
   ]
  },
  {
   "cell_type": "markdown",
   "id": "ca6286ab",
   "metadata": {},
   "source": [
    " Click the link to [Learn Mathematical Operators in Python](https://www.programiz.com/python-programming/operators) "
   ]
  },
  {
   "cell_type": "markdown",
   "id": "6a35701e",
   "metadata": {},
   "source": [
    "## Understanding Variables in Python\n",
    "\n",
    "In this section, we will explore what variables are in Python, how to create them, and some basic operations you can perform with them.\n",
    "\n",
    "### What is a Variable?\n",
    "\n",
    "A variable in Python is a storage location paired with an associated symbolic name, which contains some known or unknown quantity or information, referred to as a value."
   ]
  },
  {
   "cell_type": "code",
   "execution_count": 5,
   "id": "2d7846e9",
   "metadata": {},
   "outputs": [
    {
     "name": "stdout",
     "output_type": "stream",
     "text": [
      "The value of x is: 5\n",
      "The value of y is: Hello World\n"
     ]
    }
   ],
   "source": [
    "# Example 1: Creating and Assigning Variables\n",
    "x = 5\n",
    "y = 'Hello World'\n",
    "\n",
    "print(\"The value of x is:\", x)\n",
    "print(\"The value of y is:\", y)"
   ]
  },
  {
   "cell_type": "markdown",
   "id": "41b5dd61",
   "metadata": {},
   "source": [
    "In the example above, `x` is an integer variable with a value of `5`, and `y` is a string variable with a value of `'Hello World'`."
   ]
  },
  {
   "cell_type": "code",
   "execution_count": 6,
   "id": "03615f2c",
   "metadata": {},
   "outputs": [
    {
     "name": "stdout",
     "output_type": "stream",
     "text": [
      "The sum of x and y is: 30\n",
      "The new value of x after doubling is: 20\n"
     ]
    }
   ],
   "source": [
    "# Example 2: Manipulating Variables\n",
    "x = 10\n",
    "y = 20\n",
    "\n",
    "# Adding two variables\n",
    "z = x + y\n",
    "print(\"The sum of x and y is:\", z)\n",
    "\n",
    "# Updating a variable\n",
    "x = x * 2\n",
    "print(\"The new value of x after doubling is:\", x)"
   ]
  },
  {
   "cell_type": "markdown",
   "id": "e395a946",
   "metadata": {},
   "source": [
    "In the example above, we see how variables `x` and `y` can be added together to form a new variable `z`. We also update `x` by multiplying its current value by `2`."
   ]
  },
  {
   "cell_type": "code",
   "execution_count": 7,
   "id": "ce18362d",
   "metadata": {},
   "outputs": [
    {
     "name": "stdout",
     "output_type": "stream",
     "text": [
      "The type of a: <class 'int'>\n",
      "Now the type of a is: <class 'str'>\n"
     ]
    }
   ],
   "source": [
    "# Example 3: Dynamic Typing\n",
    "a = 10\n",
    "print(\"The type of a:\", type(a))\n",
    "\n",
    "a = \"Ten\"\n",
    "print(\"Now the type of a is:\", type(a))"
   ]
  },
  {
   "cell_type": "markdown",
   "id": "66abd49d",
   "metadata": {},
   "source": [
    "Here, `a` initially is an integer with a value of `10`. Later, `a` is assigned a new string value `'Ten'`, changing its type from `int` to `str`. This illustrates the dynamic typing nature of Python.\n"
   ]
  },
  {
   "cell_type": "markdown",
   "id": "8bf64178",
   "metadata": {},
   "source": [
    "Click the link to further learn [Python Variables](https://www.programiz.com/python-programming/variables-constants-literals)"
   ]
  },
  {
   "cell_type": "markdown",
   "id": "857e5df5",
   "metadata": {},
   "source": [
    "## Python Data Types\n",
    "\n",
    "In Python, data types are an essential concept as they define the kind of operations that can be performed on a given set of data. Python has several built-in data types, including integers, floats, strings, and booleans, each serving a different purpose in programming. This section will explore these fundamental data types with practical examples:\n",
    "\n",
    "* Numbers (Integers and Floats)\n",
    "* Strings\n",
    "* Booleans\n"
   ]
  },
  {
   "cell_type": "markdown",
   "id": "05261374",
   "metadata": {},
   "source": [
    "### Integer\n",
    "\n",
    "An integer, or `int`, is a whole number without a decimal point. Integers can be positive or negative. This data type is commonly used for counting or indexing operations.\n"
   ]
  },
  {
   "cell_type": "code",
   "execution_count": 8,
   "id": "18b30b14",
   "metadata": {},
   "outputs": [
    {
     "name": "stdout",
     "output_type": "stream",
     "text": [
      "5 <class 'int'>\n"
     ]
    }
   ],
   "source": [
    "# Example of integer data type\n",
    "x = 5\n",
    "print(x, type(x))\n"
   ]
  },
  {
   "cell_type": "markdown",
   "id": "92b5abe3",
   "metadata": {},
   "source": [
    "### Float\n",
    "\n",
    "A float, or `floating point number`, represents real numbers and can include a decimal point. Floats are useful when more precision is required in numerical computations.\n"
   ]
  },
  {
   "cell_type": "code",
   "execution_count": 9,
   "id": "47a8db4f",
   "metadata": {},
   "outputs": [
    {
     "name": "stdout",
     "output_type": "stream",
     "text": [
      "5.5 <class 'float'>\n"
     ]
    }
   ],
   "source": [
    "# Example of float data type\n",
    "y = 5.5\n",
    "print(y, type(y))"
   ]
  },
  {
   "cell_type": "markdown",
   "id": "73853cb9",
   "metadata": {},
   "source": [
    "Keep in mind that in Python 3, all divisions are automatically converted to floats. Therefore, in the example below, although we are using integers, the output will be a float."
   ]
  },
  {
   "cell_type": "code",
   "execution_count": 10,
   "id": "6fca174b",
   "metadata": {},
   "outputs": [
    {
     "data": {
      "text/plain": [
       "float"
      ]
     },
     "execution_count": 10,
     "metadata": {},
     "output_type": "execute_result"
    }
   ],
   "source": [
    "type(10 / 2)"
   ]
  },
  {
   "cell_type": "markdown",
   "id": "e4229d85",
   "metadata": {},
   "source": [
    "### String\n",
    "\n",
    "Strings in Python are sequences of characters used for storing and manipulating text. They are enclosed in quotes, either single (`'...'`) or double (`\"...\"`).\n"
   ]
  },
  {
   "cell_type": "code",
   "execution_count": 11,
   "id": "08731ef1",
   "metadata": {},
   "outputs": [
    {
     "name": "stdout",
     "output_type": "stream",
     "text": [
      "Hello, world! <class 'str'>\n"
     ]
    }
   ],
   "source": [
    "# Example of string data type\n",
    "z = \"Hello, world!\"\n",
    "print(z, type(z))"
   ]
  },
  {
   "cell_type": "markdown",
   "id": "9d3b0371",
   "metadata": {},
   "source": [
    "### String Concatenation in Python\n",
    "\n",
    "String concatenation is the process of joining one or more strings into a single string. This is a fundamental operation in Python for building and customizing strings based on dynamic data. This section demonstrates different ways to concatenate strings in Python.\n"
   ]
  },
  {
   "cell_type": "markdown",
   "id": "cdec17fe",
   "metadata": {},
   "source": [
    "#### Using the `+` Operator\n",
    "\n",
    "The most straightforward method to concatenate strings in Python is by using the `+` operator. This operator allows you to add one string to the end of another.\n",
    "\n",
    "**Example:**\n"
   ]
  },
  {
   "cell_type": "code",
   "execution_count": 12,
   "id": "393b269f",
   "metadata": {},
   "outputs": [
    {
     "name": "stdout",
     "output_type": "stream",
     "text": [
      "John Doe\n"
     ]
    }
   ],
   "source": [
    "# Concatenate two strings\n",
    "first_name = \"John\"\n",
    "last_name = \"Doe\"\n",
    "full_name = first_name + \" \" + last_name\n",
    "print(full_name)\n"
   ]
  },
  {
   "cell_type": "code",
   "execution_count": 13,
   "id": "f2ba2885",
   "metadata": {},
   "outputs": [
    {
     "name": "stdout",
     "output_type": "stream",
     "text": [
      "6\n",
      "34\n"
     ]
    }
   ],
   "source": [
    "# What do you expect will happen in the code?\n",
    "\n",
    "add_two_numbers = 5 + 1\n",
    "adding_two_strings = '3' + '4'\n",
    "print(add_two_numbers)\n",
    "print(adding_two_strings)"
   ]
  },
  {
   "cell_type": "markdown",
   "id": "be5fe06d",
   "metadata": {},
   "source": [
    "#### Using the `.join()` Method\n",
    "\n",
    "The `.join()` method is a powerful tool in Python used to concatenate multiple strings from an iterable (like a list) with a specific separator between each element.\n",
    "\n",
    "**Example:**\n"
   ]
  },
  {
   "cell_type": "code",
   "execution_count": 14,
   "id": "d8aa87cf",
   "metadata": {},
   "outputs": [
    {
     "name": "stdout",
     "output_type": "stream",
     "text": [
      "Hello world from Python\n",
      "Hello\n",
      "world\n",
      "from\n",
      "Python\n"
     ]
    }
   ],
   "source": [
    "# Using join to concatenate strings from a list with spaces\n",
    "words = [\"Hello\", \"world\", \"from\", \"Python\"]\n",
    "sentence = \" \".join(words)\n",
    "print(sentence)\n",
    "\n",
    "# Using join to concatenate with a newline character\n",
    "multi_line_sentence = \"\\n\".join(words)\n",
    "print(multi_line_sentence)"
   ]
  },
  {
   "cell_type": "markdown",
   "id": "f8b61591",
   "metadata": {},
   "source": [
    "#### Using Formatted Strings (f-strings)\n",
    "\n",
    "Formatted strings, or f-strings, provide a way to embed expressions inside string literals using curly braces `{}`. They are an excellent tool for both formatting and concatenating strings with a more readable syntax.\n",
    "\n",
    "**Example:**\n"
   ]
  },
  {
   "cell_type": "code",
   "execution_count": 15,
   "id": "f5f24329",
   "metadata": {},
   "outputs": [
    {
     "name": "stdout",
     "output_type": "stream",
     "text": [
      "Alice logged in at John Doe.\n"
     ]
    }
   ],
   "source": [
    "# Concatenate with variables directly inside the string\n",
    "user = \"Alice\"\n",
    "action = \"logged in\"\n",
    "log_message = f\"{user} {action} at {full_name}.\"\n",
    "print(log_message)\n"
   ]
  },
  {
   "cell_type": "markdown",
   "id": "5ba57ccc",
   "metadata": {},
   "source": [
    "## Boolean\n",
    "\n",
    "The Boolean data type, or `bool`, can have one of two values: `True` or `False`. This is often used in conditions and loops to control the flow of the program.\n"
   ]
  },
  {
   "cell_type": "code",
   "execution_count": 16,
   "id": "204eb9b2",
   "metadata": {},
   "outputs": [
    {
     "name": "stdout",
     "output_type": "stream",
     "text": [
      "a: True <class 'bool'>\n",
      "b: False <class 'bool'>\n"
     ]
    }
   ],
   "source": [
    "# Example of boolean data type\n",
    "a = True\n",
    "b = False\n",
    "print('a:', a, type(a))\n",
    "print('b:', b, type(b))\n"
   ]
  },
  {
   "cell_type": "markdown",
   "id": "a59c2e91",
   "metadata": {},
   "source": []
  },
  {
   "cell_type": "markdown",
   "id": "631dcb45",
   "metadata": {},
   "source": [
    "Click the link to learn [More about Python Data Types](https://www.programiz.com/python-programming/numbers)"
   ]
  },
  {
   "cell_type": "markdown",
   "id": "2a745e0e",
   "metadata": {},
   "source": [
    "## Python Collections: List, Tuple and Set"
   ]
  },
  {
   "cell_type": "markdown",
   "id": "8faf5468",
   "metadata": {},
   "source": [
    "In Python, collections are data types used to store collections of data. Among these, lists, tuples, and sets are three of the most commonly used data structures, each with its unique properties and usage scenarios. This section will explore each of these types with examples.\n"
   ]
  },
  {
   "cell_type": "markdown",
   "id": "633973eb",
   "metadata": {},
   "source": [
    "### Lists\n",
    "\n",
    "A list in Python is a mutable, ordered sequence of elements. Each element inside a list can be accessed, modified, and duplicated. Lists are versatile and can be used to store a collection of similar or different types of items.\n"
   ]
  },
  {
   "cell_type": "code",
   "execution_count": 17,
   "id": "9e223130",
   "metadata": {},
   "outputs": [
    {
     "name": "stdout",
     "output_type": "stream",
     "text": [
      "First element: 1\n",
      "Modified list: [1, 'world', 3.14, [2, 4, 6]]\n",
      "List after appending: [1, 'world', 3.14, [2, 4, 6], 'new item']\n"
     ]
    }
   ],
   "source": [
    "# Creating a list\n",
    "example_list = [1, \"hello\", 3.14, [2, 4, 6]]\n",
    "\n",
    "# Accessing elements\n",
    "print(\"First element:\", example_list[0])\n",
    "\n",
    "# Modifying elements\n",
    "example_list[1] = \"world\"\n",
    "print(\"Modified list:\", example_list)\n",
    "\n",
    "# Appending elements\n",
    "example_list.append(\"new item\")\n",
    "print(\"List after appending:\", example_list)\n"
   ]
  },
  {
   "cell_type": "markdown",
   "id": "670919f5",
   "metadata": {},
   "source": [
    "### Tuples\n",
    "\n",
    "A tuple is similar to a list in that it is an ordered collection of elements. However, tuples are immutable, meaning that once they are created, their elements cannot be modified. Tuples are generally faster than lists and are used to protect the data from changes.\n"
   ]
  },
  {
   "cell_type": "code",
   "execution_count": 18,
   "id": "0535524e",
   "metadata": {},
   "outputs": [
    {
     "name": "stdout",
     "output_type": "stream",
     "text": [
      "First element of tuple: 1\n",
      "'tuple' object does not support item assignment\n"
     ]
    }
   ],
   "source": [
    "# Creating a tuple\n",
    "example_tuple = (1, \"hello\", 3.14, (2, 4, 6))\n",
    "\n",
    "# Accessing elements\n",
    "print(\"First element of tuple:\", example_tuple[0])\n",
    "\n",
    "# Trying to modify elements (this will raise an error)\n",
    "try:\n",
    "    example_tuple[1] = \"world\"\n",
    "except TypeError as e:\n",
    "    print(e)\n"
   ]
  },
  {
   "cell_type": "markdown",
   "id": "99f92602",
   "metadata": {},
   "source": [
    "### Sets\n",
    "\n",
    "Sets are unordered collections of unique elements. They are mutable and can be used to perform mathematical set operations like union, intersection, and set difference.\n"
   ]
  },
  {
   "cell_type": "code",
   "execution_count": 19,
   "id": "163393ab",
   "metadata": {},
   "outputs": [
    {
     "name": "stdout",
     "output_type": "stream",
     "text": [
      "Set after adding an element: {1, 2, 3, 4, 5, 6}\n",
      "Union of sets: {1, 2, 3, 4, 5, 6, 7, 8}\n",
      "Intersection of sets: {4, 5, 6}\n",
      "Difference of sets: {1, 2, 3}\n"
     ]
    }
   ],
   "source": [
    "# Creating a set\n",
    "example_set = {1, 2, 3, 4, 5}\n",
    "\n",
    "# Adding elements to a set\n",
    "example_set.add(6)\n",
    "print(\"Set after adding an element:\", example_set)\n",
    "\n",
    "# Set operations\n",
    "another_set = {4, 5, 6, 7, 8}\n",
    "print(\"Union of sets:\", example_set | another_set)\n",
    "print(\"Intersection of sets:\", example_set & another_set)\n",
    "print(\"Difference of sets:\", example_set - another_set)"
   ]
  },
  {
   "cell_type": "markdown",
   "id": "2b0f12ee",
   "metadata": {},
   "source": [
    "### Dictionaries\n",
    "\n",
    "In Python, a dictionary is a collection of items where each item is stored as a key-value pair. Dictionaries are used to store data values like a map, which unlike other Data Types that hold only single value as an element, Dictionary holds key:value pair. Key-value is provided in the dictionary to make it more optimized. Each key-value pair maps the key to its associated value.\n",
    "\n",
    "Here's why dictionaries are useful:\n",
    "- **Fast lookup**: Dictionaries offer very fast lookup times, as they use keys for indexing.\n",
    "- **Dynamic storage**: You can add or remove items from a dictionary.\n",
    "- **Unordered**: Dictionaries are unordered, which means that the order in which items are added is not necessarily how they will be stored.\n"
   ]
  },
  {
   "cell_type": "code",
   "execution_count": 20,
   "id": "573e4e49",
   "metadata": {},
   "outputs": [
    {
     "name": "stdout",
     "output_type": "stream",
     "text": [
      "{'name': 'John', 'age': 30, 'city': 'New York'}\n",
      "After adding occupation: {'name': 'John', 'age': 30, 'city': 'New York', 'occupation': 'Software Developer'}\n",
      "After modifying age: {'name': 'John', 'age': 35, 'city': 'New York', 'occupation': 'Software Developer'}\n",
      "After deleting city: {'name': 'John', 'age': 35, 'occupation': 'Software Developer'}\n",
      "After popping occupation: Software Developer\n",
      "Remaining dictionary: {'name': 'John', 'age': 35}\n",
      "After popping the last item: {'name': 'John'}\n",
      "Keys:\n",
      "name\n",
      "\n",
      "Values:\n",
      "John\n",
      "\n",
      "Key-value pairs:\n",
      "name : John\n"
     ]
    }
   ],
   "source": [
    "# Creating a Dictionary\n",
    "# Here we define a dictionary called 'person' that stores information about a person.\n",
    "\n",
    "person = {\n",
    "    'name': 'John',\n",
    "    'age': 30,\n",
    "    'city': 'New York'\n",
    "}\n",
    "\n",
    "# Printing the dictionary\n",
    "print(person)\n",
    "\n",
    "\n",
    "## Adding and Modifying Items\n",
    "\n",
    "# Adding a new key-value pair\n",
    "person['occupation'] = 'Software Developer'\n",
    "print(\"After adding occupation:\", person)\n",
    "\n",
    "# Modifying an existing item\n",
    "person['age'] = 35\n",
    "print(\"After modifying age:\", person)\n",
    "\n",
    "\n",
    "## Removing Items\n",
    "\n",
    "# Removing an item using the del keyword\n",
    "del person['city']\n",
    "print(\"After deleting city:\", person)\n",
    "\n",
    "# Removing an item using the pop() method\n",
    "occupation = person.pop('occupation')\n",
    "print(\"After popping occupation:\", occupation)\n",
    "print(\"Remaining dictionary:\", person)\n",
    "\n",
    "# Removing the last inserted item\n",
    "person.popitem()\n",
    "print(\"After popping the last item:\", person)\n",
    "\n",
    "\n",
    "## Looping Through a Dictionary\n",
    "\n",
    "# Loop through keys\n",
    "print(\"Keys:\")\n",
    "for key in person:\n",
    "    print(key)\n",
    "\n",
    "# Loop through values\n",
    "print(\"\\nValues:\")\n",
    "for value in person.values():\n",
    "    print(value)\n",
    "\n",
    "# Loop through key-value pairs\n",
    "print(\"\\nKey-value pairs:\")\n",
    "for key, value in person.items():\n",
    "    print(key, \":\", value)\n"
   ]
  },
  {
   "cell_type": "markdown",
   "id": "5050a962",
   "metadata": {},
   "source": [
    "Click the links to learn more about Python Collections.\n",
    "\n",
    "- [Learn more about Python List](https://www.programiz.com/python-programming/list)\n",
    "- [Learn more about Python Tuple](https://www.programiz.com/python-programming/tuple)\n",
    "- [Learn more about Python Set](https://www.programiz.com/python-programming/set)\n",
    "- [Learn more about Python Dictionary](https://www.programiz.com/python-programming/dictionary)"
   ]
  },
  {
   "cell_type": "markdown",
   "id": "6e8209a6",
   "metadata": {},
   "source": [
    "## Python Indexing and Slicing"
   ]
  },
  {
   "cell_type": "markdown",
   "id": "d5d8a19e",
   "metadata": {},
   "source": [
    "In Python, indexing allows you to access individual items in an iterable, like a list or a string, using their position, which starts from 0 for the first element. Slicing, on the other hand, lets you access a range of items. Let’s explore how both work with practical examples.\n"
   ]
  },
  {
   "cell_type": "code",
   "execution_count": 21,
   "id": "240675e5",
   "metadata": {},
   "outputs": [
    {
     "name": "stdout",
     "output_type": "stream",
     "text": [
      "First item: 10\n",
      "First item: 20\n",
      "Last item: 50\n",
      "Last item: 40\n"
     ]
    }
   ],
   "source": [
    "# Example of indexing\n",
    "my_list = [10, 20, 30, 40, 50]\n",
    "\n",
    "# Access the first item\n",
    "print(\"First item:\", my_list[0])\n",
    "\n",
    "# Access the second item\n",
    "print(\"First item:\", my_list[1])\n",
    "\n",
    "# Access the last item\n",
    "print(\"Last item:\", my_list[-1])\n",
    "\n",
    "# Access the second last item\n",
    "print(\"Last item:\", my_list[-2])"
   ]
  },
  {
   "cell_type": "markdown",
   "id": "f0111e30",
   "metadata": {},
   "source": [
    "### Slicing in Python\n",
    "\n",
    "Slicing uses the colon `:` operator to access a range of items. You can specify where to start the slice, and where to end it, and the step (the stride) by which to move from the start to the end index.\n"
   ]
  },
  {
   "cell_type": "code",
   "execution_count": 22,
   "id": "8d42bb32",
   "metadata": {},
   "outputs": [
    {
     "name": "stdout",
     "output_type": "stream",
     "text": [
      "Items from index 2 to 5: [30, 40, 50, 60]\n",
      "Items from start to index 3: [10, 20, 30, 40]\n",
      "Items from index 3 to end: [40, 50, 60, 70, 80, 90, 100]\n",
      "Every second item from index 1 to 8: [20, 40, 60, 80]\n"
     ]
    }
   ],
   "source": [
    "# Example of slicing\n",
    "my_list = [10, 20, 30, 40, 50, 60, 70, 80, 90, 100]\n",
    "\n",
    "# Get items from index 2 to 5\n",
    "print(\"Items from index 2 to 5:\", my_list[2:6])\n",
    "\n",
    "# Get items from beginning to index 3\n",
    "print(\"Items from start to index 3:\", my_list[:4])\n",
    "\n",
    "# Get items from index 3 to the end\n",
    "print(\"Items from index 3 to end:\", my_list[3:])\n",
    "\n",
    "# Get items with step\n",
    "print(\"Every second item from index 1 to 8:\", my_list[1:9:2])\n"
   ]
  },
  {
   "cell_type": "markdown",
   "id": "0f642762",
   "metadata": {},
   "source": [
    "To learn more about slicing and indexing in Python, check out [this](https://www.freecodecamp.org/news/slicing-and-indexing-in-python/)"
   ]
  },
  {
   "cell_type": "markdown",
   "id": "eee86c00",
   "metadata": {},
   "source": [
    "### Understanding Mutable and Immutable Data Types in Python\n",
    "\n",
    "Python variables can store data of different types, and these types can be either mutable or immutable. **Mutable** types are those that allow modification of the content without changing the memory address of the object. Examples include lists, dictionaries, and sets. **Immutable** types do not allow any changes to the object once it has been created, which means any changes actually create a new object. Examples include integers, floats, strings, and tuples. This section will demonstrate how these behaviors affect your code.\n"
   ]
  },
  {
   "cell_type": "markdown",
   "id": "8490e927",
   "metadata": {},
   "source": [
    "#### Immutable Data Types Example: Integer\n",
    "\n",
    "Let's start with an example using integers, which are immutable in Python. We will:\n",
    "1. Assign an integer to a variable.\n",
    "2. Modify the value of the variable.\n",
    "3. Check if the memory address before and after the modification remains the same.\n"
   ]
  },
  {
   "cell_type": "code",
   "execution_count": 23,
   "id": "066f4c96",
   "metadata": {},
   "outputs": [
    {
     "name": "stdout",
     "output_type": "stream",
     "text": [
      "Original value of a: 10, memory address: 4309575160\n",
      "New value of a: 15, memory address: 4309575320\n"
     ]
    }
   ],
   "source": [
    "# Immutable type example with integers\n",
    "a = 10\n",
    "print(f\"Original value of a: {a}, memory address: {id(a)}\")\n",
    "\n",
    "a = 15\n",
    "print(f\"New value of a: {a}, memory address: {id(a)}\")\n"
   ]
  },
  {
   "cell_type": "markdown",
   "id": "57d2a11f",
   "metadata": {},
   "source": [
    "#### Immutable Data Types Example: String\n",
    "\n",
    "Next, we explore strings, another immutable type:\n",
    "1. Create a string variable.\n",
    "2. Attempt to modify the string.\n",
    "3. Observe the behavior and memory allocation.\n"
   ]
  },
  {
   "cell_type": "code",
   "execution_count": 24,
   "id": "a678218c",
   "metadata": {},
   "outputs": [
    {
     "name": "stdout",
     "output_type": "stream",
     "text": [
      "Original string: hello, memory address: 4357709360\n",
      "Modified string: hello world, memory address: 4365527280\n"
     ]
    }
   ],
   "source": [
    "# Immutable type example with strings\n",
    "s = \"hello\"\n",
    "print(f\"Original string: {s}, memory address: {id(s)}\")\n",
    "\n",
    "s += \" world\"\n",
    "print(f\"Modified string: {s}, memory address: {id(s)}\")"
   ]
  },
  {
   "cell_type": "markdown",
   "id": "fb7f08d6",
   "metadata": {},
   "source": [
    "#### Mutable Data Types Example: List\n",
    "\n",
    "Now, let's look at lists, which are mutable:\n",
    "1. Create a list.\n",
    "2. Modify the list by adding an item.\n",
    "3. Check if the memory address changes.\n"
   ]
  },
  {
   "cell_type": "code",
   "execution_count": 25,
   "id": "0af7bbd7",
   "metadata": {},
   "outputs": [
    {
     "name": "stdout",
     "output_type": "stream",
     "text": [
      "Original list: [1, 2, 3], memory address: 4365530688\n",
      "Modified list: [1, 2, 3, 4], memory address: 4365530688\n"
     ]
    }
   ],
   "source": [
    "# Mutable type example with lists\n",
    "my_list = [1, 2, 3]\n",
    "print(f\"Original list: {my_list}, memory address: {id(my_list)}\")\n",
    "\n",
    "my_list.append(4)\n",
    "print(f\"Modified list: {my_list}, memory address: {id(my_list)}\")\n"
   ]
  },
  {
   "cell_type": "markdown",
   "id": "4094f278",
   "metadata": {},
   "source": [
    "From the examples above, you can see that immutable data types create new objects when modified, while mutable data types can be changed without creating a new object. This is a crucial concept in Python programming, affecting how functions and methods modify data, performance implications, and how data is handled in concurrent programming scenarios.\n"
   ]
  },
  {
   "cell_type": "markdown",
   "id": "ab8bdec2",
   "metadata": {},
   "source": [
    "## Python Control Flow\n",
    "\n",
    "In this section, we'll explore how Python handles control flow. Control flow enables us to direct the execution of code by making decisions based on specific evaluations, which yield either a True or False value. Depending on these boolean outcomes, we can trigger different sections of code to run. \n",
    "\n",
    "We'll look at the basic constructs such as `if` statements, loops (`for` and `while`), and `break` and `continue` statements.\n"
   ]
  },
  {
   "cell_type": "code",
   "execution_count": 26,
   "id": "128fcdbe",
   "metadata": {},
   "outputs": [
    {
     "name": "stdout",
     "output_type": "stream",
     "text": [
      "x is greater than 5\n"
     ]
    }
   ],
   "source": [
    "## Example: if statement\n",
    "\n",
    "x = 10\n",
    "if x > 5:\n",
    "    print(\"x is greater than 5\")"
   ]
  },
  {
   "cell_type": "code",
   "execution_count": 27,
   "id": "207ee80e",
   "metadata": {},
   "outputs": [
    {
     "name": "stdout",
     "output_type": "stream",
     "text": [
      "x is exactly 10\n"
     ]
    }
   ],
   "source": [
    "# Example: if-else and elif\n",
    "x = 10\n",
    "if x > 10:\n",
    "    print(\"x is greater than 10\")\n",
    "elif x == 10:\n",
    "    print(\"x is exactly 10\")\n",
    "else:\n",
    "    print(\"x is less than 10\")"
   ]
  },
  {
   "cell_type": "markdown",
   "id": "b9e814c8",
   "metadata": {},
   "source": [
    "Check out [this](https://www.programiz.com/python-programming/if-elif-else) for more about Python `if-else-elif`. "
   ]
  },
  {
   "cell_type": "code",
   "execution_count": 28,
   "id": "5d36d3bb",
   "metadata": {},
   "outputs": [
    {
     "name": "stdout",
     "output_type": "stream",
     "text": [
      "0\n",
      "1\n",
      "2\n",
      "3\n",
      "4\n"
     ]
    }
   ],
   "source": [
    "# Example: for loop\n",
    "for i in range(5):\n",
    "    print(i)"
   ]
  },
  {
   "cell_type": "markdown",
   "id": "e4d95a11",
   "metadata": {},
   "source": [
    "Check out [this](https://www.programiz.com/python-programming/for-loop) for more about Python `for` loop"
   ]
  },
  {
   "cell_type": "code",
   "execution_count": 29,
   "id": "39fe5974",
   "metadata": {},
   "outputs": [
    {
     "name": "stdout",
     "output_type": "stream",
     "text": [
      "5\n",
      "4\n",
      "3\n",
      "2\n",
      "1\n"
     ]
    }
   ],
   "source": [
    "# Example: while loop\n",
    "x = 5\n",
    "while x > 0:\n",
    "    print(x)\n",
    "    x -= 1"
   ]
  },
  {
   "cell_type": "markdown",
   "id": "6810b349",
   "metadata": {},
   "source": [
    "Check out [this](https://www.programiz.com/python-programming/while-loop) for more about Python `while` loop"
   ]
  },
  {
   "cell_type": "code",
   "execution_count": 30,
   "id": "0b170804",
   "metadata": {},
   "outputs": [
    {
     "name": "stdout",
     "output_type": "stream",
     "text": [
      "0\n",
      "1\n",
      "2\n"
     ]
    }
   ],
   "source": [
    "# Example: break\n",
    "for i in range(10):\n",
    "    if i == 3:\n",
    "        break\n",
    "    print(i)"
   ]
  },
  {
   "cell_type": "code",
   "execution_count": 31,
   "id": "5d446726",
   "metadata": {},
   "outputs": [
    {
     "name": "stdout",
     "output_type": "stream",
     "text": [
      "1\n",
      "3\n",
      "5\n",
      "7\n",
      "9\n"
     ]
    }
   ],
   "source": [
    "# Example: continue\n",
    "for i in range(10):\n",
    "    if i % 2 == 0:\n",
    "        continue\n",
    "    print(i)"
   ]
  },
  {
   "cell_type": "markdown",
   "id": "820fbf8c",
   "metadata": {},
   "source": [
    "Check out [this](https://www.programiz.com/python-programming/break-continue) for more about Python `break/continue` loop"
   ]
  },
  {
   "cell_type": "code",
   "execution_count": 32,
   "id": "fecc1a43",
   "metadata": {},
   "outputs": [
    {
     "name": "stdout",
     "output_type": "stream",
     "text": [
      "i = 0, j = 0\n",
      "i = 0, j = 1\n",
      "i = 0, j = 2\n",
      "i = 1, j = 0\n",
      "i = 1, j = 1\n",
      "i = 1, j = 2\n",
      "i = 2, j = 0\n",
      "i = 2, j = 1\n",
      "i = 2, j = 2\n"
     ]
    }
   ],
   "source": [
    "# Example: nested loops\n",
    "for i in range(3):\n",
    "    for j in range(3):\n",
    "        print(f\"i = {i}, j = {j}\")"
   ]
  },
  {
   "cell_type": "markdown",
   "id": "f4aabe4f",
   "metadata": {},
   "source": [
    "There is another keyword `pass` in Python control flow, and you can check out [this](https://www.programiz.com/python-programming/pass-statement)"
   ]
  },
  {
   "cell_type": "markdown",
   "id": "5f4d9386",
   "metadata": {},
   "source": [
    "## Functions\n",
    "\n",
    "The structure of a function definition includes key elements like:\n",
    "\n",
    "- `def` keyword\n",
    "- Function name\n",
    "- Parameters\n",
    "- The body of the function\n",
    "- The `return` statement (optional)"
   ]
  },
  {
   "cell_type": "code",
   "execution_count": 33,
   "id": "62290a71",
   "metadata": {},
   "outputs": [],
   "source": [
    "# Example of function definition\n",
    "\n",
    "def greet(name):\n",
    "    return f\"Hello, {name}!\""
   ]
  },
  {
   "cell_type": "markdown",
   "id": "d46d27c6",
   "metadata": {},
   "source": [
    "After we create a function, we can be execute the function by \"calling\" or \"invoking\" the function."
   ]
  },
  {
   "cell_type": "code",
   "execution_count": null,
   "id": "bf656705",
   "metadata": {},
   "outputs": [],
   "source": [
    "greeting = greet(\"Alice\")\n",
    "print(greeting)"
   ]
  },
  {
   "cell_type": "markdown",
   "id": "7bffb148",
   "metadata": {},
   "source": [
    "Strictly speaking, there is the difference between `parameters` (variables declared in the function definition) and `arguments` (values given to these variables when the function is called)."
   ]
  },
  {
   "cell_type": "code",
   "execution_count": null,
   "id": "f75bcc62",
   "metadata": {},
   "outputs": [],
   "source": [
    "def power(base, exponent):\n",
    "    return base ** exponent\n",
    "result = power(2, 3)\n",
    "print(result)\n",
    "\n",
    "# base and exponent are parameters, while 2 and 3 are arguments."
   ]
  },
  {
   "cell_type": "markdown",
   "id": "626c9c44",
   "metadata": {},
   "source": [
    "### Python Docstrings\n",
    "\n",
    "This section provides an overview of Python docstrings. Docstrings are special strings that appear right after the definition of a function, method, class, or module. They are used to explain what the object does. The `help()` function uses these docstrings to display the description of the object. Let's explore how docstrings are written and how to retrieve them.\n"
   ]
  },
  {
   "cell_type": "code",
   "execution_count": null,
   "id": "93da78fa",
   "metadata": {},
   "outputs": [],
   "source": [
    "def multiply(x, y):\n",
    "    \"\"\"\n",
    "    Multiply two numbers together.\n",
    "    \n",
    "    Parameters:\n",
    "    x (int or float): The first number to multiply.\n",
    "    y (int or float): The second number to multiply.\n",
    "    \n",
    "    Returns:\n",
    "    int or float: The product of x and y.\n",
    "    \"\"\"\n",
    "    return x * y\n"
   ]
  },
  {
   "cell_type": "markdown",
   "id": "2d093408",
   "metadata": {},
   "source": [
    "#### Accessing Docstrings\n",
    "\n",
    "You can access a function's docstring using the built-in `help()` function, which prints the docstring of the specified object, or you can simply print the `__doc__` attribute of the function.\n"
   ]
  },
  {
   "cell_type": "code",
   "execution_count": null,
   "id": "e974f21e",
   "metadata": {},
   "outputs": [],
   "source": [
    "# Using help()\n",
    "help(multiply)\n",
    "\n",
    "# Accessing __doc__ attribute directly\n",
    "print(multiply.__doc__)"
   ]
  },
  {
   "cell_type": "markdown",
   "id": "187b1123",
   "metadata": {},
   "source": [
    "Check out [this](https://www.datacamp.com/tutorial/docstrings-python) for more details about docstrings."
   ]
  },
  {
   "cell_type": "code",
   "execution_count": null,
   "id": "f3673d37",
   "metadata": {},
   "outputs": [],
   "source": []
  }
 ],
 "metadata": {
  "kernelspec": {
   "display_name": "Python 3 (ipykernel)",
   "language": "python",
   "name": "python3"
  },
  "language_info": {
   "codemirror_mode": {
    "name": "ipython",
    "version": 3
   },
   "file_extension": ".py",
   "mimetype": "text/x-python",
   "name": "python",
   "nbconvert_exporter": "python",
   "pygments_lexer": "ipython3",
   "version": "3.11.5"
  }
 },
 "nbformat": 4,
 "nbformat_minor": 5
}
