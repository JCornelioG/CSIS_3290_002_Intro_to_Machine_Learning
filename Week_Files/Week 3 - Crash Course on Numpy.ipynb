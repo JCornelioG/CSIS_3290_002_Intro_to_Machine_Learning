{
 "cells": [
  {
   "cell_type": "markdown",
   "id": "bee2811a",
   "metadata": {},
   "source": [
    "# Crash Course on Numpy\n",
    "\n",
    "[Numpy Cheat sheet](https://www.datacamp.com/cheat-sheet/numpy-cheat-sheet-data-analysis-in-python)"
   ]
  },
  {
   "cell_type": "markdown",
   "id": "0425c7de",
   "metadata": {},
   "source": [
    "## Numpy Basics\n",
    "\n",
    "NumPy stands for `Numerical Python`. It is a fundamental package for scientific computing with Python. It provides support for arrays, matrices, and a large collection of mathematical functions to operate on these arrays. NumPy is widely used in data science, machine learning, and scientific research due to its efficiency and ease of use for numerical operations.\n",
    "\n",
    "In 2005, Travis Oliphant created NumPy. Travis Oliphant is also the creator of Anaconda. \n",
    "\n",
    "### Why do we need Numpy?\n",
    "\n",
    "Numpy arrays offer many advantages over Python lists when it comes to numerical and scientific computing. Python list is not designed for computation purpose. For example, you can write Python code to create a new list that double the value of every element in the following list `x`.\n",
    "\n",
    "``` python\n",
    "list_1 = [1, 2, 3]\n",
    "```"
   ]
  },
  {
   "cell_type": "code",
   "execution_count": 1,
   "id": "fa5142dc",
   "metadata": {},
   "outputs": [],
   "source": [
    "list_1 = [1, 2, 3]\n",
    "\n",
    "# write the code below.\n",
    "\n",
    "\n"
   ]
  },
  {
   "cell_type": "markdown",
   "id": "ba25110e",
   "metadata": {},
   "source": [
    "Here are some reasons why NumPy is preferred over lists for these purposes:\n",
    "\n",
    "- **Performance**:\n",
    "\n",
    "    - Speed: NumPy operations are implemented in C and are much faster than their Python equivalents. For example, element-wise operations on arrays are significantly faster in NumPy.\n",
    "    - Memory Efficiency: NumPy arrays consume less memory than Python lists. This is because they store elements of the same type in contiguous memory locations, which reduces overhead.\n",
    "\n",
    "- **Functionality**:\n",
    "\n",
    "    - Broad Range of Functions: NumPy provides a comprehensive suite of mathematical functions, including linear algebra, random number generation, Fourier transforms, and more.\n",
    "    - Vectorized Operations: NumPy allows for vectorized operations, which means you can perform operations on entire arrays at once without needing explicit loops. This leads to cleaner and more readable code.\n",
    "\n",
    "- **Convenience**:\n",
    "\n",
    "    - Multidimensional Arrays: NumPy supports multidimensional arrays, which are essential for working with matrices and higher-dimensional data.\n",
    "    - Broadcasting: NumPy’s broadcasting feature allows for operations on arrays of different shapes and sizes without the need for explicit replication of data.\n",
    "    - Interoperability: NumPy arrays integrate well with many other libraries in the scientific Python ecosystem, such as pandas, SciPy, and scikit-learn.\n",
    "\n",
    "- **Specialized Data Structures**:\n",
    "\n",
    "    - Matrix Operations: NumPy provides specialized data structures and functions for matrix operations, which are not as straightforward to implement using lists.\n",
    "    - Advanced Indexing: NumPy offers advanced indexing and slicing capabilities, making it easier to manipulate and access data."
   ]
  },
  {
   "cell_type": "markdown",
   "id": "fa47bab1",
   "metadata": {},
   "source": [
    "\n",
    "### Importing NumPy\n",
    "\n",
    "To start using NumPy, you need to import it. The convention is to import it as `np`."
   ]
  },
  {
   "cell_type": "code",
   "execution_count": 2,
   "id": "10db321c",
   "metadata": {},
   "outputs": [],
   "source": [
    "import numpy as np"
   ]
  },
  {
   "cell_type": "markdown",
   "id": "b906bec6",
   "metadata": {},
   "source": [
    "We can now access the tools provided by NumPy package using ``np.``\n",
    "\n",
    "### Creating Arrays"
   ]
  },
  {
   "cell_type": "code",
   "execution_count": 3,
   "id": "f5fa6c67",
   "metadata": {},
   "outputs": [
    {
     "name": "stdout",
     "output_type": "stream",
     "text": [
      "1D array using np.array with list:\n",
      "[1 2 3 4 5]\n",
      "\n",
      "1D array using np.array with range:\n",
      "[0 1 2 3 4 5 6 7 8 9]\n",
      "\n",
      "1D array using np.arange with single argument:\n",
      "[0 1 2 3 4 5 6 7 8 9]\n",
      "\n",
      "1D array using np.arange with start and stop arguments:\n",
      "[3 4 5 6 7 8 9]\n",
      "\n",
      "1D array using np.arange with start, stop and stepsize arguments:\n",
      "[3 5 7 9]\n",
      "\n",
      "1D array using np.linspace with start, stop, and number of elements:\n",
      "[0.   0.25 0.5  0.75 1.  ]\n",
      "\n",
      "2D array using np.array with nested lists:\n",
      "[[1 2 3]\n",
      " [4 5 6]]\n",
      "\n",
      "2D array of zeros using np.zeros:\n",
      "[[0. 0. 0.]\n",
      " [0. 0. 0.]\n",
      " [0. 0. 0.]\n",
      " [0. 0. 0.]]\n",
      "\n",
      "2D array of ones using np.ones:\n",
      "[[1. 1. 1.]\n",
      " [1. 1. 1.]\n",
      " [1. 1. 1.]\n",
      " [1. 1. 1.]]\n",
      "\n",
      "2D array with random values from a uniform distribution using np.random.rand:\n",
      "[[0.40053925 0.98047946]\n",
      " [0.47796402 0.12159739]]\n",
      "\n",
      "2D array with random values from a normal distribution using np.random.randn:\n",
      "[[-0.78938227  0.12113704]\n",
      " [-0.84322527  1.77492065]]\n"
     ]
    }
   ],
   "source": [
    "# Creating a 1D array\n",
    "array_1d_1 = np.array([1, 2, 3, 4, 5])\n",
    "print(\"1D array using np.array with list:\")\n",
    "print(array_1d_1)\n",
    "\n",
    "array_1d_2 = np.array(range(10))\n",
    "print(\"\\n1D array using np.array with range:\")\n",
    "print(array_1d_2)\n",
    "\n",
    "array_1d_3 = np.arange(10)\n",
    "print(\"\\n1D array using np.arange with single argument:\")\n",
    "print(array_1d_3)\n",
    "\n",
    "array_1d_4 = np.arange(3, 10)\n",
    "print(\"\\n1D array using np.arange with start and stop arguments:\")\n",
    "print(array_1d_4)\n",
    "\n",
    "array_1d_5 = np.arange(3, 10, 2)\n",
    "print(\"\\n1D array using np.arange with start, stop and stepsize arguments:\")\n",
    "print(array_1d_5)\n",
    "\n",
    "array_1d_6 = np.linspace(0, 1, 5)\n",
    "print(\"\\n1D array using np.linspace with start, stop, and number of elements:\")\n",
    "print(array_1d_6)\n",
    "\n",
    "# Creating a 2D array\n",
    "array_2d_1 = np.array([[1, 2, 3], [4, 5, 6]])\n",
    "print(\"\\n2D array using np.array with nested lists:\")\n",
    "print(array_2d_1)\n",
    "\n",
    "array_2d_2 = np.zeros((4, 3))\n",
    "print(\"\\n2D array of zeros using np.zeros:\")\n",
    "print(array_2d_2)\n",
    "\n",
    "array_2d_3 = np.ones((4, 3))\n",
    "print(\"\\n2D array of ones using np.ones:\")\n",
    "print(array_2d_3)\n",
    "\n",
    "array_2d_4 = np.random.rand(2, 2)\n",
    "print(\"\\n2D array with random values from a uniform distribution using np.random.rand:\")\n",
    "print(array_2d_4)\n",
    "\n",
    "array_2d_5 = np.random.randn(2, 2)\n",
    "print(\"\\n2D array with random values from a normal distribution using np.random.randn:\")\n",
    "print(array_2d_5)\n"
   ]
  },
  {
   "cell_type": "markdown",
   "id": "9ebcc4cc",
   "metadata": {},
   "source": [
    "### Array Attributes\n",
    "\n",
    "NumPy arrays have various attributes that provide information about the array.\n",
    "\n",
    "\n"
   ]
  },
  {
   "cell_type": "code",
   "execution_count": 4,
   "id": "c96e2516",
   "metadata": {},
   "outputs": [
    {
     "name": "stdout",
     "output_type": "stream",
     "text": [
      "Shape: (2, 3)\n",
      "Number of dimensions: 2\n",
      "Size: 6\n",
      "Data type: int64\n"
     ]
    }
   ],
   "source": [
    "# Example array\n",
    "array = np.array([[1, 2, 3], [4, 5, 6]])\n",
    "\n",
    "# Shape of the array\n",
    "print(\"Shape:\", array.shape)\n",
    "\n",
    "# Number of dimensions\n",
    "print(\"Number of dimensions:\", array.ndim)\n",
    "\n",
    "# Size of the array (total number of elements)\n",
    "print(\"Size:\", array.size)\n",
    "\n",
    "# Data type of the elements\n",
    "print(\"Data type:\", array.dtype)\n"
   ]
  },
  {
   "cell_type": "markdown",
   "id": "b28330af",
   "metadata": {},
   "source": [
    "### Array Indexing and Slicing\n",
    "\n",
    "NumPy arrays can be indexed and sliced similarly to Python lists. NumPy slicing allows you to extract portions of an array using a familiar Python syntax. Slicing can be used to access a subset of elements from a NumPy array. Here is the basic syntax of slicing.\n",
    "\n",
    "```python\n",
    "array[start:stop:step]\n",
    "```\n",
    "- `start` is the index where the slice starts (inclusive).\n",
    "- `stop` is the index where the slice ends (exclusive).\n",
    "- `step` is the step size between each index.\n"
   ]
  },
  {
   "cell_type": "code",
   "execution_count": null,
   "id": "815897a4",
   "metadata": {},
   "outputs": [],
   "source": [
    "# Creating a NumPy array\n",
    "arr = np.array([0, 1, 2, 3, 4, 5, 6, 7, 8, 9])\n",
    "\n",
    "# Slicing the array from index 2 to 7 with a step of 2\n",
    "sliced_arr = arr[2:8:2]\n",
    "print(sliced_arr)  # Output: [2 4 6]\n",
    "\n",
    "\n",
    "# Accessing a single element\n",
    "print(\"Element at index 2:\", array[2])\n",
    "\n",
    "# Slicing the array\n",
    "print(\"Elements from index 1 to 4:\", array[1:5])\n",
    "\n",
    "# Modifying an element\n",
    "array[3] = 10\n",
    "print(\"Modified array:\", array)\n"
   ]
  },
  {
   "cell_type": "markdown",
   "id": "387b3cb6",
   "metadata": {},
   "source": [
    "#### Slicing by Reference \n",
    "\n",
    "When you slice a NumPy array, it does not create a new independent array. Instead, it creates a view of the original array. This means that if you modify the sliced array, it will also modify the original array.\n",
    "\n",
    "Let's see an example:"
   ]
  },
  {
   "cell_type": "code",
   "execution_count": 18,
   "id": "0836dcbc",
   "metadata": {},
   "outputs": [
    {
     "name": "stdout",
     "output_type": "stream",
     "text": [
      "Original array: [   0    1 9999    3    4    5    6    7    8    9]\n",
      "Sliced array: [9999    3    4    5    6    7]\n"
     ]
    }
   ],
   "source": [
    "# Creating a NumPy array\n",
    "arr = np.array([0, 1, 2, 3, 4, 5, 6, 7, 8, 9])\n",
    "\n",
    "# Slicing the array\n",
    "sliced_arr = arr[2:8]\n",
    "\n",
    "# Modifying the sliced array\n",
    "sliced_arr[0] = 9999\n",
    "\n",
    "print(\"Original array:\", arr)  # Output: [  0   1 100   3   4   5   6   7   8   9]\n",
    "print(\"Sliced array:\", sliced_arr)  # Output: [100   3   4   5   6   7]"
   ]
  },
  {
   "cell_type": "markdown",
   "id": "bde70106",
   "metadata": {},
   "source": [
    "#### Importance of the `.copy` Method\n",
    "\n",
    "To avoid unwanted changes to the original array, you can use the `.copy` method to create a copy of the sliced array. This creates a new array that is independent of the original array.\n",
    "\n",
    "Let's see an example:\n"
   ]
  },
  {
   "cell_type": "code",
   "execution_count": 20,
   "id": "864b8045",
   "metadata": {},
   "outputs": [
    {
     "name": "stdout",
     "output_type": "stream",
     "text": [
      "Original array: [0 1 2 3 4 5 6 7 8 9]\n",
      "Copied array: [9999    3    4    5    6    7]\n"
     ]
    }
   ],
   "source": [
    "# Creating a NumPy array\n",
    "arr = np.array([0, 1, 2, 3, 4, 5, 6, 7, 8, 9])\n",
    "\n",
    "# Slicing the array and creating a copy\n",
    "sliced_arr_copy = arr[2:8].copy()\n",
    "\n",
    "# Modifying the copied array\n",
    "sliced_arr_copy[0] = 9999\n",
    "\n",
    "print(\"Original array:\", arr)  # Output: [0 1 2 3 4 5 6 7 8 9]\n",
    "print(\"Copied array:\", sliced_arr_copy)  # Output: [100   3   4   5   6   7]\n"
   ]
  },
  {
   "cell_type": "markdown",
   "id": "389e7d8e",
   "metadata": {},
   "source": [
    "### Array Operations\n",
    "NumPy supports element-wise operations on arrays.\n",
    "\n"
   ]
  },
  {
   "cell_type": "code",
   "execution_count": 6,
   "id": "8ed40daf",
   "metadata": {},
   "outputs": [
    {
     "name": "stdout",
     "output_type": "stream",
     "text": [
      "Addition: [5 7 9]\n",
      "Subtraction: [-3 -3 -3]\n",
      "Multiplication: [ 4 10 18]\n",
      "Division: [0.25 0.4  0.5 ]\n"
     ]
    }
   ],
   "source": [
    "# Example arrays\n",
    "array1 = np.array([1, 2, 3])\n",
    "array2 = np.array([4, 5, 6])\n",
    "\n",
    "# Addition\n",
    "print(\"Addition:\", array1 + array2)\n",
    "\n",
    "# Subtraction\n",
    "print(\"Subtraction:\", array1 - array2)\n",
    "\n",
    "# Multiplication\n",
    "print(\"Multiplication:\", array1 * array2)\n",
    "\n",
    "# Division\n",
    "print(\"Division:\", array1 / array2)\n"
   ]
  },
  {
   "cell_type": "code",
   "execution_count": 7,
   "id": "9863ad06",
   "metadata": {},
   "outputs": [],
   "source": [
    "## Dimension matters\n",
    "x = np.array([1,2,3])  \n",
    "y = np.array([1,2,3,4]) \n",
    "\n",
    "# x + y"
   ]
  },
  {
   "cell_type": "markdown",
   "id": "037c5b9d",
   "metadata": {},
   "source": [
    "#### Exercise"
   ]
  },
  {
   "cell_type": "code",
   "execution_count": 8,
   "id": "554c4c9f",
   "metadata": {
    "scrolled": true
   },
   "outputs": [
    {
     "name": "stdout",
     "output_type": "stream",
     "text": [
      "[1 2 3] <class 'numpy.ndarray'>\n"
     ]
    }
   ],
   "source": [
    "# Create a numpy array based on a python list. \n",
    "\n",
    "array_1 = np.array(list_1)\n",
    "\n",
    "print(array_1, type(array_1))\n",
    "\n",
    "# Write code to double every value in the array_1\n",
    "\n",
    "\n",
    "# Write code to add 5 to each value in the array_1\n",
    "\n",
    "\n",
    "# Write code to divide each value in the array_1 by 10\n",
    "\n",
    "\n",
    "# Write code to subtract each value in the array_1 by 1\n"
   ]
  },
  {
   "cell_type": "markdown",
   "id": "ab0fa55c",
   "metadata": {},
   "source": [
    "### Numpy is faster\n",
    "\n",
    "To show that Numpy computation is much faster, analyze the code below:"
   ]
  },
  {
   "cell_type": "code",
   "execution_count": 9,
   "id": "ace3d4e2",
   "metadata": {},
   "outputs": [
    {
     "name": "stdout",
     "output_type": "stream",
     "text": [
      "Time for list addition: 0.029050111770629883\n",
      "Time for NumPy array addition: 0.0018529891967773438\n"
     ]
    }
   ],
   "source": [
    "import time\n",
    "\n",
    "# Creating large lists and arrays\n",
    "size = 1000000\n",
    "list1 = list(range(size))\n",
    "list2 = list(range(size))\n",
    "array1 = np.arange(size)\n",
    "array2 = np.arange(size)\n",
    "\n",
    "# List addition\n",
    "start_time = time.time()\n",
    "list_sum = [x + y for x, y in zip(list1, list2)]\n",
    "end_time = time.time()\n",
    "print(\"Time for list addition:\", end_time - start_time)\n",
    "\n",
    "# NumPy array addition\n",
    "start_time = time.time()\n",
    "array_sum = array1 + array2\n",
    "end_time = time.time()\n",
    "print(\"Time for NumPy array addition:\", end_time - start_time)"
   ]
  },
  {
   "cell_type": "markdown",
   "id": "6e04cf18",
   "metadata": {},
   "source": [
    "### Numpy arrays can only hold elements of the same data type\n",
    "\n",
    "NumPy arrays are designed to hold elements of a single data type. This characteristic is one of the key reasons for their efficiency and performance advantages over Python lists."
   ]
  },
  {
   "cell_type": "code",
   "execution_count": 10,
   "id": "029be5fa",
   "metadata": {},
   "outputs": [
    {
     "data": {
      "text/plain": [
       "array(['1', 'haha', 'True'], dtype='<U21')"
      ]
     },
     "execution_count": 10,
     "metadata": {},
     "output_type": "execute_result"
    }
   ],
   "source": [
    "np.array([1, 'haha', True])"
   ]
  },
  {
   "cell_type": "markdown",
   "id": "1dcaccf1",
   "metadata": {},
   "source": [
    "The `<U21` data type in NumPy refers to a Unicode string with a maximum length of 21 characters. In NumPy, the dtype object specifies how the bytes in the fixed-size block of memory corresponding to an array item should be interpreted. The character U indicates that the data type is a Unicode string, and the number 21 specifies that the string can be up to 21 characters long. See [more](https://stackoverflow.com/questions/65447594/why-does-np-array1-a-consume-unicode-string-of-21-characters)."
   ]
  },
  {
   "cell_type": "markdown",
   "id": "363d8e4c",
   "metadata": {},
   "source": [
    "## Numpy Reshaping"
   ]
  },
  {
   "cell_type": "markdown",
   "id": "0189fd61",
   "metadata": {},
   "source": [
    "In this section, we will explore the reshaping capabilities of NumPy. Reshaping allows us to change the shape of an array without changing its data. This is particularly useful in various data manipulation and preparation tasks. Reshaping is essential when dealing with different data structures, machine learning models, and preparing data for visualization. It helps to convert arrays to the required dimensions for various operations."
   ]
  },
  {
   "cell_type": "code",
   "execution_count": 11,
   "id": "fbffcd04",
   "metadata": {},
   "outputs": [
    {
     "name": "stdout",
     "output_type": "stream",
     "text": [
      "Original 1D array:\n",
      "[ 0  1  2  3  4  5  6  7  8  9 10 11]\n",
      "\n",
      "Reshaped to 2D array (3x4):\n",
      "[[ 0  1  2  3]\n",
      " [ 4  5  6  7]\n",
      " [ 8  9 10 11]]\n",
      "\n",
      "Reshaped to 3D array (2x2x3):\n",
      "[[[ 0  1  2]\n",
      "  [ 3  4  5]]\n",
      "\n",
      " [[ 6  7  8]\n",
      "  [ 9 10 11]]]\n"
     ]
    }
   ],
   "source": [
    "# Example\n",
    "\n",
    "\n",
    "# Create a 1D array\n",
    "array_1d = np.arange(12)\n",
    "print(\"Original 1D array:\")\n",
    "print(array_1d)\n",
    "\n",
    "# Reshape to 2D array\n",
    "array_2d = array_1d.reshape(3, 4)\n",
    "print(\"\\nReshaped to 2D array (3x4):\")\n",
    "print(array_2d)\n",
    "\n",
    "# Reshape to 3D array\n",
    "array_3d = array_2d.reshape(2, 2, 3)\n",
    "print(\"\\nReshaped to 3D array (2x2x3):\")\n",
    "print(array_3d)\n"
   ]
  },
  {
   "cell_type": "code",
   "execution_count": 12,
   "id": "cebe5505",
   "metadata": {},
   "outputs": [
    {
     "name": "stdout",
     "output_type": "stream",
     "text": [
      "Original data (3x2):\n",
      "[[0 1]\n",
      " [2 3]\n",
      " [4 5]]\n",
      "\n",
      "Reshaped data for neural network (8x4x1):\n",
      "[[[0]\n",
      "  [1]]\n",
      "\n",
      " [[2]\n",
      "  [3]]\n",
      "\n",
      " [[4]\n",
      "  [5]]]\n"
     ]
    }
   ],
   "source": [
    "# Reshaping is constantly needed for Deep Learning\n",
    "\n",
    "# Example data: 3 samples, 2 features each\n",
    "data = np.arange(6).reshape(3, 2)\n",
    "print(\"Original data (3x2):\")\n",
    "print(data)\n",
    "\n",
    "# Reshape for a neural network (e.g., adding a batch dimension)\n",
    "reshaped_data = data.reshape(3, 2, 1)\n",
    "print(\"\\nReshaped data for neural network (8x4x1):\")\n",
    "print(reshaped_data)\n"
   ]
  },
  {
   "cell_type": "markdown",
   "id": "c0ef9c73",
   "metadata": {},
   "source": [
    "### Using -1 in Reshaping\n"
   ]
  },
  {
   "cell_type": "markdown",
   "id": "dc6d6596",
   "metadata": {},
   "source": [
    "NumPy allows using -1 to automatically calculate one dimension, making reshaping more flexible.\n",
    "\n"
   ]
  },
  {
   "cell_type": "code",
   "execution_count": 13,
   "id": "0b85d10e",
   "metadata": {},
   "outputs": [
    {
     "name": "stdout",
     "output_type": "stream",
     "text": [
      "\n",
      "Reshaped using -1 (2x6):\n",
      "[[ 0  1  2  3  4  5]\n",
      " [ 6  7  8  9 10 11]]\n"
     ]
    }
   ],
   "source": [
    "# Using -1 to automatically calculate the dimension\n",
    "array_reshaped = array_1d.reshape(2, -1)\n",
    "print(\"\\nReshaped using -1 (2x6):\")\n",
    "print(array_reshaped)\n"
   ]
  },
  {
   "cell_type": "markdown",
   "id": "ddc1e591",
   "metadata": {},
   "source": [
    "### Reshape vs. Resize\n",
    "Understanding the difference between reshape and resize."
   ]
  },
  {
   "cell_type": "code",
   "execution_count": 14,
   "id": "92da161d",
   "metadata": {},
   "outputs": [
    {
     "name": "stdout",
     "output_type": "stream",
     "text": [
      "[ 0  1  2  3  4  5  6  7  8  9 10 11]\n",
      "\n",
      "Reshaped array (3x4):\n",
      "[[ 0  1  2  3]\n",
      " [ 4  5  6  7]\n",
      " [ 8  9 10 11]]\n",
      "\n",
      "Original array resized (3x4):\n",
      "[[ 0  1  2  3]\n",
      " [ 4  5  6  7]\n",
      " [ 8  9 10 11]]\n"
     ]
    }
   ],
   "source": [
    "# Using reshape\n",
    "reshaped_array = array_1d.reshape(3, 4)\n",
    "print(array_1d)\n",
    "print(\"\\nReshaped array (3x4):\")\n",
    "print(reshaped_array)\n",
    "\n",
    "# Using resize\n",
    "array_1d.resize(3, 4)\n",
    "print(\"\\nOriginal array resized (3x4):\")\n",
    "print(array_1d)"
   ]
  },
  {
   "cell_type": "markdown",
   "id": "d3cb04e4",
   "metadata": {},
   "source": [
    "### Flattening"
   ]
  },
  {
   "cell_type": "code",
   "execution_count": 15,
   "id": "54000b67",
   "metadata": {},
   "outputs": [
    {
     "name": "stdout",
     "output_type": "stream",
     "text": [
      "Original 2D array:\n",
      "[[1 2 3]\n",
      " [4 5 6]]\n",
      "\n",
      "Flattened array:\n",
      "[1 2 3 4 5 6]\n"
     ]
    }
   ],
   "source": [
    "# Create a 2D array\n",
    "array_2d = np.array([[1, 2, 3], [4, 5, 6]])\n",
    "print(\"Original 2D array:\")\n",
    "print(array_2d)\n",
    "\n",
    "# Flatten the 2D array\n",
    "flattened_array = array_2d.flatten()\n",
    "print(\"\\nFlattened array:\")\n",
    "print(flattened_array)\n"
   ]
  },
  {
   "cell_type": "code",
   "execution_count": 16,
   "id": "cfd6a504",
   "metadata": {},
   "outputs": [],
   "source": [
    "# Exercises:\n",
    "    \n",
    "# Exercise 1: Reshape a 1D array of size 16 to a 2D array of shape (4, 4).\n",
    "\n",
    "\n",
    "# Exercise 2: Given a 2D array of shape (6, 6), reshape it to a 3D array of shape (2, 3, 6).\n",
    "\n",
    "\n",
    "# Exercise 3: Create a 1D array with 12 elements and reshape it to (3, -1)."
   ]
  },
  {
   "cell_type": "markdown",
   "id": "65b10eed",
   "metadata": {},
   "source": [
    "## Comparison/Logical Operations between Numpy Arrays and Data Filtering"
   ]
  },
  {
   "cell_type": "code",
   "execution_count": 20,
   "id": "d37f6626",
   "metadata": {},
   "outputs": [
    {
     "name": "stdout",
     "output_type": "stream",
     "text": [
      "<class 'numpy.ndarray'>\n",
      "[ True  True False  True  True]\n",
      "[False False False  True  True]\n",
      "[ True  True False False False]\n",
      "[False False  True  True  True]\n",
      "[ True  True  True False False]\n",
      "[False False  True  True  True]\n",
      "[ True  True  True False False]\n",
      "[ True  True False  True  True]\n"
     ]
    }
   ],
   "source": [
    "array1 = np.array([1, 2, 3, 4, 5])\n",
    "array2 = np.array([5, 4, 3, 2, 1])\n",
    "\n",
    "print(array1 == array2)\n",
    "print(array1 != array2)\n",
    "print(array1 > array2)\n",
    "print(array1 < array2)\n",
    "print(array1 >= array2)\n",
    "print(array1 <= array2)\n",
    "\n",
    "\n",
    "print((array1 > 2) & (array2 < 4))\n",
    "print((array1 < 4) | (array2 > 2))\n",
    "print(~(array1 == array2))\n",
    "\n",
    "\n",
    "\n"
   ]
  },
  {
   "cell_type": "markdown",
   "id": "f658a897",
   "metadata": {},
   "source": [
    "You can use the resulting boolean arrays to filter data. "
   ]
  },
  {
   "cell_type": "code",
   "execution_count": 25,
   "id": "cf3fea8f",
   "metadata": {},
   "outputs": [
    {
     "name": "stdout",
     "output_type": "stream",
     "text": [
      "[4 5]\n",
      "[3 4 5]\n"
     ]
    }
   ],
   "source": [
    "filtered_array_1 = array1[array1 > 3]\n",
    "print(filtered_array_1)\n",
    "\n",
    "filtered_array_2 = array1[(array1 > 2) & (array2 < 4)]\n",
    "print(filtered_array_2)\n",
    "\n",
    "common_elements = array1[array1 == array2]\n",
    "print(common_elements)\n"
   ]
  },
  {
   "cell_type": "code",
   "execution_count": null,
   "id": "ea3b3773",
   "metadata": {},
   "outputs": [],
   "source": []
  }
 ],
 "metadata": {
  "kernelspec": {
   "display_name": "Python 3 (ipykernel)",
   "language": "python",
   "name": "python3"
  },
  "language_info": {
   "codemirror_mode": {
    "name": "ipython",
    "version": 3
   },
   "file_extension": ".py",
   "mimetype": "text/x-python",
   "name": "python",
   "nbconvert_exporter": "python",
   "pygments_lexer": "ipython3",
   "version": "3.11.5"
  }
 },
 "nbformat": 4,
 "nbformat_minor": 5
}
