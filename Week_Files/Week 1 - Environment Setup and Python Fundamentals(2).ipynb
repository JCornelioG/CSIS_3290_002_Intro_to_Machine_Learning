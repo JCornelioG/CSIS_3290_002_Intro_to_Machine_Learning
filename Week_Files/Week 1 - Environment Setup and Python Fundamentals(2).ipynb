{
 "cells": [
  {
   "cell_type": "markdown",
   "id": "b6edcae9",
   "metadata": {},
   "source": [
    "# 1. Environment Setup"
   ]
  },
  {
   "cell_type": "markdown",
   "id": "e42afbd1",
   "metadata": {},
   "source": [
    "## Development Environment in CSIS 3290\n",
    "\n",
    "\n",
    "- Anaconda (used as the package manager)\n",
    "\n",
    "- Jupyter notebook \n",
    "\n",
    "Some of you may prefer to use a more richly featured integrated development environment (IDE)\n",
    "\n",
    "- [Pycharm](https://www.jetbrains.com/pycharm/download/?section=mac)\n",
    "\n",
    "- Or [VSCode](https://code.visualstudio.com)\n",
    "\n",
    "- Or [Spider](https://www.spyder-ide.org)\n"
   ]
  },
  {
   "cell_type": "markdown",
   "id": "986dbcae",
   "metadata": {},
   "source": [
    "## DataCamp\n",
    "\n",
    "\n",
    "[DataCamp.com](https://datacamp.com) is an online learning platform specializing in data science and analytics skills. It offers interactive courses and tutorials on a variety of topics, including programming (Python, R, SQL), data visualization, machine learning, and more. The interactive courses are particularly beneficial for students new to computer programming, easing their learning curve. \n",
    "\n",
    "Students enrolled in CSIS 3290 will have free access to DataCamp throughout the semester. Our assignments will also be hosted on DataCamp.com.\n"
   ]
  },
  {
   "cell_type": "markdown",
   "id": "d96b2dbc",
   "metadata": {},
   "source": [
    "## Other Learning Resources for Python\n",
    "\n",
    "- [Python for Data Analysis 3rd Edition by Wes McKinney](https://wesmckinney.com/book/) \n",
    "\n",
    "  Github: https://github.com/wesm/pydata-book \n",
    "  \n",
    "\n",
    "  <p> <br> </p>\n",
    "\n",
    "  \n",
    "\n",
    "- [Python Data Science Handbook by Jake VanderPlas](https://jakevdp.github.io/PythonDataScienceHandbook/)\n",
    "\n",
    "  Github: https://github.com/jakevdp/PythonDataScienceHandbook\n",
    "  \n",
    "  \n",
    "The books can be easily found in [O'Reilly Learning Platform](https://www.oreilly.com/). Make sure that you use the school email to login. \n",
    "\n",
    "Additionally, remember that the official documentation for Python packages, online resources, and AI assistants like ChatGPT can serve as valuable tutors while learning Python.\n",
    "\n"
   ]
  },
  {
   "cell_type": "markdown",
   "id": "3685f06e",
   "metadata": {},
   "source": [
    "## How to succeed in this course\n",
    "\n",
    "1. Carefully review the course outline to grasp its structure thoroughly.\n",
    "2. Recognize the significance of academic integrity.\n",
    "3. Approach the text and code in this course actively. Engage with them by following along and experimenting. Building muscle memory through hands-on practice will prove more valuable than merely reading about it or listening to the instructor rambling in class. &#x1F600;\n",
    "4. If you lack technical expertise and struggle with basic computer proficiency, it's essential to take proactive steps to improve as soon as possible. Start by learning basic tasks such as file compression, decompression, and file saving. These fundamental skills are essential prerequisites for this course.\n",
    "5. Do some research before posing technical inquiries. I encourage you to harness the power of AI and the vast resources available on the Internet to deepen the understanding of concepts. Being proficient in data science isn't just about memorizing every tool or command; it's about mastering the skill of efficiently finding the information you're unfamiliar with. In my view, honing this ability is even more critical than the course material itself."
   ]
  },
  {
   "cell_type": "markdown",
   "id": "62c94db7",
   "metadata": {},
   "source": [
    "## IPython and Jupyter\n",
    "\n",
    "The [IPython project](https://ipython.org/) began in 2001 as Fernando Pérez’s side project to make a better interactive Python interpreter. Over the subsequent 20 years it has become one of the most important tools in the modern Python data stack. While it does not provide any computational or data analytical tools by itself, IPython is designed for both interactive computing and software development work. It encourages an execute-explore workflow instead of the typical edit-compile-run workflow of many other programming languages. It also provides integrated access to your operating system’s shell and filesystem; this reduces the need to switch between a terminal window and a Python session in many cases. Since much of data analysis coding involves exploration, trial and error, and iteration, IPython can help you get the job done faster.\n",
    "\n",
    "In 2014, Fernando and the IPython team announced the [Jupyter project](https://jupyter.org/), a broader initiative to design language-agnostic interactive computing tools. The IPython web notebook became the Jupyter notebook, with support now for over 40 programming languages. The IPython system can now be used as a kernel (a programming language mode) for using Python with Jupyter.\n",
    "\n",
    "IPython itself has become a component of the much broader Jupyter open source project, which provides a productive environment for interactive and exploratory computing. Its oldest and simplest \"mode\" is as an enhanced Python shell designed to accelerate the writing, testing, and debugging of Python code. You can also use the IPython system through the Jupyter notebook.\n",
    "\n",
    "The Jupyter notebook system also allows you to author content in Markdown and HTML, providing you a means to create rich documents with code and text."
   ]
  },
  {
   "cell_type": "markdown",
   "id": "55a39179",
   "metadata": {},
   "source": [
    "## How to launch the IPython Shell\n",
    "\n",
    "\n",
    "Start by launching the IPython interpreter by typing **`ipython`** on the command line; alternatively, if you've installed a distribution like Anaconda, there may be a launcher specific to your system. Once you do this, you should see a prompt like the following:\n",
    "\n",
    "```ipython\n",
    "Python 3.9.2 (v3.9.2:1a79785e3e, Feb 19 2024, 01:06:15) \n",
    "Type 'copyright', 'credits' or 'license' for more information\n",
    "IPython 7.21.0 -- An enhanced Interactive Python. Type '?' for help.\n",
    "\n",
    "In [1]:\n",
    "```\n"
   ]
  },
  {
   "cell_type": "markdown",
   "id": "177a41e7",
   "metadata": {},
   "source": [
    "## How to launch the Jupyter Notebook or JupyterLab\n",
    "\n",
    "The Jupyter Notebook is a browser-based graphical interface to the IPython shell, and builds on it a rich set of dynamic display capabilities.\n",
    "As well as executing Python/IPython statements, notebooks allow the user to include formatted text, static and dynamic visualizations, mathematical equations, JavaScript widgets, and much more.\n",
    "Furthermore, these documents can be saved in a way that lets other people open them and execute the code on their own systems.\n",
    "\n",
    "Though you'll view and edit Jupyter notebooks through your web browser window, they must connect to a running Python process in order to execute code.\n",
    "You can start this process (known as a \"kernel\") by running the following command in your system shell:\n",
    "\n",
    "```\n",
    "$ jupyter notebook\n",
    "```\n",
    "\n",
    "This command will launch a local web server that will be visible to your browser.\n",
    "\n",
    "\n",
    "Upon issuing the command, your default browser should automatically open and navigate to the listed local URL;\n",
    "the exact address will depend on your system. If the browser does not open automatically, you can open a window and manually open this address (*http://localhost:8888/* in this example).\n",
    "\n",
    "If you want a more feature-rich interface, you can try JupyterLab instead of Jupyter notebook. They differ primarily in their user interface, functionality, and flexibility. Jupyter Notebook has a simpler, more lightweight interface, while JupyterLab offers a more versatile and feature-rich interface.\n",
    "\n",
    "```\n",
    "$ jupyter lab\n",
    "```"
   ]
  },
  {
   "cell_type": "markdown",
   "id": "8d67c8d2",
   "metadata": {},
   "source": [
    "## How to quickly access the documentation in IPython or Jupyter\n",
    "\n",
    "The Python language and its data science ecosystem are built with the user in mind, and one big part of that is access to documentation.\n",
    "Every Python object contains a reference to a string, known as a *docstring*, which in most cases will contain a concise summary of the object and how to use it.\n",
    "Python has a built-in `help` function that can access this information and prints the results.\n",
    "For example, to see the documentation of the built-in `len` function, you can do the following:\n",
    "\n",
    "```ipython\n",
    "In [1]: help(len)\n",
    "Help on built-in function len in module builtins:\n",
    "\n",
    "len(obj, /)\n",
    "    Return the number of items in a container.\n",
    "```\n",
    "\n",
    "Depending on your interpreter, this information may be displayed as inline text or in a separate pop-up window."
   ]
  },
  {
   "cell_type": "markdown",
   "id": "a8eee6e9",
   "metadata": {},
   "source": [
    "## Magic Commands in IPython or Jupyter\n",
    "\n",
    "We have something called *magic commands*, and are prefixed by the `%` character. These magic commands are designed to succinctly solve various common problems in standard data analysis. Magic commands come in two flavors: *line magics*, which are denoted by a single `%` prefix and operate on a single line of input, and *cell magics*, which are denoted by a double `%%` prefix and operate on multiple lines of input.\n",
    "\n",
    "#### Running External Code: %run\n",
    "As you begin developing more extensive code, you will likely find yourself working in IPython for interactive exploration, as well as a text editor to store code that you want to reuse.\n",
    "Rather than running this code in a new window, it can be convenient to run it within your IPython session.\n",
    "This can be done with the `%run` magic command.\n",
    "\n",
    "For example, imagine you've created a *myscript.py* file with the following contents:\n",
    "\n",
    "```python\n",
    "# file: myscript.py\n",
    "\n",
    "def square(x):\n",
    "    \"\"\"square a number\"\"\"\n",
    "    return x ** 2\n",
    "\n",
    "for N in range(1, 4):\n",
    "    print(f\"{N} squared is {square(N)}\")\n",
    "```\n",
    "\n",
    "You can execute this from your IPython session as follows:\n",
    "\n",
    "```ipython\n",
    "In [6]: %run myscript.py\n",
    "1 squared is 1\n",
    "2 squared is 4\n",
    "3 squared is 9\n",
    "```\n",
    "\n",
    "Note also that after you've run this script, any functions defined within it are available for use in your IPython session:\n",
    "\n",
    "```ipython\n",
    "In [7]: square(5)\n",
    "Out[7]: 25\n",
    "```\n",
    "\n",
    "There are several options to fine-tune how your code is run; you can see the documentation in the normal way, by typing **`%run?`** in the IPython interpreter.\n",
    "\n",
    "#### Timing Code Execution: %timeit\n",
    "Another example of a useful magic function is `%timeit`, which will automatically determine the execution time of the single-line Python statement that follows it.\n",
    "For example, we may want to check the performance of a list comprehension:\n",
    "\n",
    "```ipython\n",
    "In [8]: %timeit L = [n ** 2 for n in range(1000)]\n",
    "430 µs ± 3.21 µs per loop (mean ± std. dev. of 7 runs, 1000 loops each)\n",
    "```\n",
    "\n",
    "The benefit of `%timeit` is that for short commands it will automatically perform multiple runs in order to attain more robust results.\n",
    "For multiline statements, adding a second `%` sign will turn this into a cell magic that can handle multiple lines of input.\n",
    "For example, here's the equivalent construction with a `for` loop:\n",
    "\n",
    "```ipython\n",
    "In [9]: %%timeit\n",
    "   ...: L = []\n",
    "   ...: for n in range(1000):\n",
    "   ...:     L.append(n ** 2)\n",
    "   ...: \n",
    "484 µs ± 5.67 µs per loop (mean ± std. dev. of 7 runs, 1000 loops each)\n",
    "```\n",
    "\n",
    "We can immediately see that list comprehensions are about 10% faster than the equivalent `for` loop construction in this case."
   ]
  },
  {
   "cell_type": "markdown",
   "id": "c000ceb5",
   "metadata": {},
   "source": [
    "# How to write Markdown\n",
    "\n",
    "If you have ever taken any classes in HTML, you will Markdown much easier. \n",
    "\n",
    "https://github.com/adam-p/markdown-here/wiki/Markdown-Cheatsheet"
   ]
  },
  {
   "cell_type": "markdown",
   "id": "dc56ea9d",
   "metadata": {},
   "source": [
    "## How to use Anaconda"
   ]
  },
  {
   "cell_type": "markdown",
   "id": "01f732e7",
   "metadata": {},
   "source": [
    "[Anaconda](https://www.anaconda.com/) is a popular open-source distribution of the Python and R programming languages, along with a collection of libraries and tools commonly used in data science, machine learning, and scientific computing. It simplifies the process of setting up and managing environments for these languages and their associated packages by providing a package management system called conda. Anaconda includes hundreds of pre-installed packages and can be easily expanded with additional packages from the conda repository.\n",
    "\n",
    "One of the key features of Anaconda is its ability to create isolated environments, which allow users to work on different projects with different dependencies without conflicts. This makes it easier to manage dependencies and ensure reproducibility in data analysis and research projects.\n",
    "\n",
    "Anaconda is widely used by data scientists, researchers, and developers to streamline their workflow and access a comprehensive set of tools and libraries for data analysis, visualization, machine learning, and more.\n",
    "\n",
    "\n",
    "I'll cover the specifics during our class session. If you happen to miss it, you can catch up by watching a video tutorial like [this](https://www.youtube.com/watch?v=MUZtVEDKXsk) or finding similar resources online. I'm sure you'll find plenty of helpful tutorials available. Additionally, feel free to reach out to your diligent classmates or me for assistance. However, I do encourage you to conduct your due diligence beforehand. \n",
    "\n",
    "\n",
    "\n",
    "\n",
    "\n",
    "\n",
    "\n",
    "\n"
   ]
  },
  {
   "cell_type": "markdown",
   "id": "c039611a",
   "metadata": {},
   "source": [
    "## How to use Anaconda + IDE (Pycharm/VSCode/Spider)\n",
    "\n",
    "I'll demonstrate the specifics during our class session. Again, attendance is important in this class. \n",
    "\n",
    "If you miss the class, you can refer to tutorials:\n",
    "\n",
    "- [VSCode + Conda](https://code.visualstudio.com/docs/python/environments)\n",
    "- [PyCharm + Conda](https://docs.anaconda.com/free/working-with-conda/ide-tutorials/pycharm/)\n",
    "\n",
    "Using Spider is similar to using Jupyter notebook, you will have access to the packages in the same environment where you launch the Spider or Jupyter Notebook. "
   ]
  },
  {
   "cell_type": "markdown",
   "id": "d979c402",
   "metadata": {},
   "source": [
    "# 2. Python Fundamentals"
   ]
  },
  {
   "cell_type": "markdown",
   "id": "c5277c84",
   "metadata": {},
   "source": [
    "1. Download/Clone the 3rd edition notebooks from https://github.com/wesm/pydata-book\n",
    "\n",
    "2. Explore the [Ch2](https://wesmckinney.com/book/python-basics) and [Ch3](https://wesmckinney.com/book/python-builtin) while practicing by coding alongside the relevant Jupyter notebooks. Use these chapters to build a foundational understanding of Python's syntax and data structures.\n",
    "\n",
    "3. Our plan is to cover the Python fundamentals during Week 1 and Week 2, followed by the introduction of the Python Pandas package in Week 3.\n"
   ]
  }
 ],
 "metadata": {
  "kernelspec": {
   "display_name": "Python 3 (ipykernel)",
   "language": "python",
   "name": "python3"
  },
  "language_info": {
   "codemirror_mode": {
    "name": "ipython",
    "version": 3
   },
   "file_extension": ".py",
   "mimetype": "text/x-python",
   "name": "python",
   "nbconvert_exporter": "python",
   "pygments_lexer": "ipython3",
   "version": "3.11.5"
  }
 },
 "nbformat": 4,
 "nbformat_minor": 5
}
